{
 "cells": [
  {
   "cell_type": "markdown",
   "metadata": {},
   "source": [
    "### Install required package"
   ]
  },
  {
   "cell_type": "code",
   "execution_count": 84,
   "metadata": {},
   "outputs": [
    {
     "name": "stdout",
     "output_type": "stream",
     "text": [
      "Requirement already satisfied: pymongo in ./.venv/lib/python3.12/site-packages (4.10.1)\n",
      "Requirement already satisfied: dnspython<3.0.0,>=1.16.0 in ./.venv/lib/python3.12/site-packages (from pymongo) (2.7.0)\n",
      "Requirement already satisfied: python-dotenv in ./.venv/lib/python3.12/site-packages (1.0.1)\n"
     ]
    }
   ],
   "source": [
    "\n",
    "!pip install pymongo\n",
    "!pip install python-dotenv"
   ]
  },
  {
   "cell_type": "markdown",
   "metadata": {},
   "source": [
    "### Importing the required libraries"
   ]
  },
  {
   "cell_type": "code",
   "execution_count": 85,
   "metadata": {},
   "outputs": [],
   "source": [
    "from pymongo.mongo_client import MongoClient\n",
    "from pymongo.server_api import ServerApi\n",
    "from dotenv import load_dotenv\n",
    "import os"
   ]
  },
  {
   "cell_type": "code",
   "execution_count": 88,
   "metadata": {},
   "outputs": [],
   "source": [
    "# Load environment variables from .env file\n",
    "load_dotenv()\n",
    "\n",
    "MONGO_URI =  os.getenv(\"MONGO_URI\")"
   ]
  },
  {
   "cell_type": "code",
   "execution_count": 90,
   "metadata": {},
   "outputs": [
    {
     "name": "stdout",
     "output_type": "stream",
     "text": [
      "You successfully connected to MongoDB!\n"
     ]
    }
   ],
   "source": [
    "# Create a new client and connect to the server\n",
    "client = MongoClient(MONGO_URI, server_api=ServerApi('1'))\n",
    "db = client['ehr_database']\n",
    "collection = db['patient_records']\n",
    "# Send a ping to confirm a successful connection\n",
    "try:\n",
    "    client.admin.command('ping')\n",
    "    print(\"You successfully connected to MongoDB!\")\n",
    "except Exception as e:\n",
    "    print(e)"
   ]
  },
  {
   "cell_type": "markdown",
   "metadata": {},
   "source": [
    "### Function to fetch data from the database"
   ]
  },
  {
   "cell_type": "code",
   "execution_count": 72,
   "metadata": {},
   "outputs": [],
   "source": [
    "from typing import Dict, Any\n",
    "import json\n",
    "\n",
    "def get_mental_health_data(patient_id: str) -> Dict[str, Any]:\n",
    "    \"\"\"Mock function to get mental health data\"\"\"\n",
    "    return {\n",
    "        \"patient_id\": patient_id,\n",
    "        \"diagnoses\": [\"anxiety\", \"depression\"],\n",
    "        \"medications\": [\"sertraline\", \"alprazolam\"],\n",
    "        \"therapies\": [\"cognitive behavioral therapy\", \"mindfulness\"]\n",
    "    }"
   ]
  },
  {
   "cell_type": "code",
   "execution_count": 92,
   "metadata": {},
   "outputs": [],
   "source": [
    "def get_mental_health_data(patient_id: str) -> Dict[str, Any]:\n",
    "    \"\"\"Get patient mental health data from MongoDB\"\"\"\n",
    "    try:\n",
    "        patient = collection.find_one({\"PatientID\": int(patient_id)})\n",
    "        if patient:\n",
    "            encounters = patient.get(\"Encounters\", [])\n",
    "            encounter_history = [\n",
    "                {\n",
    "                    \"date\": e.get(\"Date\"),\n",
    "                    \"reason\": e.get(\"Reason\"),\n",
    "                    \"notes\": e.get(\"Notes\")\n",
    "                }\n",
    "                for e in encounters\n",
    "            ]\n",
    "            \n",
    "            return {\n",
    "                \"patient_id\": str(patient[\"PatientID\"]),\n",
    "                \"age\": patient.get(\"Age\"),\n",
    "                \"gender\": patient.get(\"Gender\"),\n",
    "                \"diagnosis\": patient.get(\"Diagnosis\"),\n",
    "                \"medications\": patient.get(\"Medications\", []),\n",
    "                \"encounter_history\": encounter_history\n",
    "            }\n",
    "        return {\"error\": \"Patient not found\"}\n",
    "    except Exception as e:\n",
    "        return {\"error\": str(e)}"
   ]
  },
  {
   "cell_type": "markdown",
   "metadata": {},
   "source": [
    "### Fetch data manually by function"
   ]
  },
  {
   "cell_type": "code",
   "execution_count": 95,
   "metadata": {},
   "outputs": [
    {
     "data": {
      "text/plain": [
       "{'patient_id': '1002',\n",
       " 'age': 31,\n",
       " 'gender': 'Male',\n",
       " 'diagnosis': 'OCD',\n",
       " 'medications': ['Clomipramine 25mg', 'Sertraline 50mg'],\n",
       " 'encounter_history': [{'date': '2024-03-31',\n",
       "   'reason': 'Initial Consultation',\n",
       "   'notes': 'Patient reports ritualistic actions and intrusive thoughts. Recommended medication adjustment.'},\n",
       "  {'date': '2024-07-06',\n",
       "   'reason': 'Medication Review',\n",
       "   'notes': 'Patient reports intrusive thoughts and anxiety. Recommended medication adjustment.'}]}"
      ]
     },
     "execution_count": 95,
     "metadata": {},
     "output_type": "execute_result"
    }
   ],
   "source": [
    "get_mental_health_data(\"1002\")"
   ]
  },
  {
   "cell_type": "markdown",
   "metadata": {},
   "source": [
    "### Define function call for tool calls"
   ]
  },
  {
   "cell_type": "code",
   "execution_count": 73,
   "metadata": {},
   "outputs": [],
   "source": [
    "tools = [\n",
    "  {\n",
    "      \"type\": \"function\",\n",
    "      \"function\": {\n",
    "          \"name\": \"get_mental_health_ehr_data\",\n",
    "          \"parameters\": {\n",
    "              \"type\": \"object\",\n",
    "              \"properties\": {\n",
    "                  \"patient_id\": {\"type\": \"string\"}\n",
    "              },\n",
    "          },\n",
    "      },\n",
    "  }\n",
    "]"
   ]
  },
  {
   "cell_type": "markdown",
   "metadata": {},
   "source": [
    "### Load environment variables from .env file"
   ]
  },
  {
   "cell_type": "code",
   "execution_count": 116,
   "metadata": {},
   "outputs": [],
   "source": [
    "from openai import OpenAI\n",
    "load_dotenv()\n",
    "OPENAI_API_KEY = os.getenv(\"OPENAI_API_KEY\")\n",
    "client = OpenAI(api_key=OPENAI_API_KEY)"
   ]
  },
  {
   "cell_type": "markdown",
   "metadata": {},
   "source": [
    "### Prepare prompt with function calling"
   ]
  },
  {
   "cell_type": "code",
   "execution_count": 122,
   "metadata": {},
   "outputs": [
    {
     "name": "stdout",
     "output_type": "stream",
     "text": [
      "[ChatCompletionMessageToolCall(id='call_CAAOxNEwb6fPFVOzwLzShgzc', function=Function(arguments='{\"patient_id\":\"1012\"}', name='get_mental_health_ehr_data'), type='function')]\n"
     ]
    }
   ],
   "source": [
    "completion = client.chat.completions.create(\n",
    "  model=\"gpt-3.5-turbo\",\n",
    "  messages=[{\"role\": \"user\", \"content\": \"What are the recent mental health notes for patient #1012?\"}],\n",
    "  tools=tools,\n",
    ")\n",
    "\n",
    "response = completion.choices[0].message.tool_calls\n",
    "print(response)"
   ]
  },
  {
   "cell_type": "markdown",
   "metadata": {},
   "source": [
    "### Test the function call accuracy"
   ]
  },
  {
   "cell_type": "code",
   "execution_count": 126,
   "metadata": {},
   "outputs": [
    {
     "name": "stdout",
     "output_type": "stream",
     "text": [
      "Running 100 function call tests...\n",
      "--------------------------------------------------\n",
      "Test 1: ✓ Correct function call\n",
      "Test 2: ✓ Correct function call\n",
      "Test 3: ✓ Correct function call\n",
      "Test 4: ✓ Correct function call\n",
      "Test 5: ✓ Correct function call\n",
      "Test 6: ✓ Correct function call\n",
      "Test 7: ✓ Correct function call\n",
      "Test 8: ✓ Correct function call\n",
      "Test 9: ✓ Correct function call\n",
      "Test 10: ✓ Correct function call\n",
      "Test 11: ✓ Correct function call\n",
      "Test 12: ✓ Correct function call\n",
      "Test 13: ✓ Correct function call\n",
      "Test 14: ✓ Correct function call\n",
      "Test 15: ✓ Correct function call\n",
      "Test 16: ✓ Correct function call\n",
      "Test 17: ✓ Correct function call\n",
      "Test 18: ✓ Correct function call\n",
      "Test 19: ✓ Correct function call\n",
      "Test 20: ✓ Correct function call\n",
      "Test 21: ✓ Correct function call\n",
      "Test 22: ✓ Correct function call\n",
      "Test 23: ✓ Correct function call\n",
      "Test 24: ✓ Correct function call\n",
      "Test 25: ✓ Correct function call\n",
      "Test 26: ✓ Correct function call\n",
      "Test 27: ✓ Correct function call\n",
      "Test 28: ✓ Correct function call\n",
      "Test 29: ✓ Correct function call\n",
      "Test 30: ✓ Correct function call\n",
      "Test 31: ✓ Correct function call\n",
      "Test 32: ✓ Correct function call\n",
      "Test 33: ✓ Correct function call\n",
      "Test 34: ✓ Correct function call\n",
      "Test 35: ✓ Correct function call\n",
      "Test 36: ✓ Correct function call\n",
      "Test 37: ✓ Correct function call\n",
      "Test 38: ✓ Correct function call\n",
      "Test 39: ✓ Correct function call\n",
      "Test 40: ✓ Correct function call\n",
      "Test 41: ✓ Correct function call\n",
      "Test 42: ✓ Correct function call\n",
      "Test 43: ✓ Correct function call\n",
      "Test 44: ✓ Correct function call\n",
      "Test 45: ✓ Correct function call\n",
      "Test 46: ✓ Correct function call\n",
      "Test 47: ✓ Correct function call\n",
      "Test 48: ✓ Correct function call\n",
      "Test 49: ✓ Correct function call\n",
      "Test 50: ✓ Correct function call\n",
      "Test 51: ✓ Correct function call\n",
      "Test 52: ✓ Correct function call\n",
      "Test 53: ✓ Correct function call\n",
      "Test 54: ✓ Correct function call\n",
      "Test 55: ✓ Correct function call\n",
      "Test 56: ✓ Correct function call\n",
      "Test 57: ✓ Correct function call\n",
      "Test 58: ✓ Correct function call\n",
      "Test 59: ✓ Correct function call\n",
      "Test 60: ✓ Correct function call\n",
      "Test 61: ✓ Correct function call\n",
      "Test 62: ✓ Correct function call\n",
      "Test 63: ✓ Correct function call\n",
      "Test 64: ✓ Correct function call\n",
      "Test 65: ✓ Correct function call\n",
      "Test 66: ✓ Correct function call\n",
      "Test 67: ✓ Correct function call\n",
      "Test 68: ✓ Correct function call\n",
      "Test 69: ✓ Correct function call\n",
      "Test 70: ✓ Correct function call\n",
      "Test 71: ✓ Correct function call\n",
      "Test 72: ✓ Correct function call\n",
      "Test 73: ✓ Correct function call\n",
      "Test 74: ✓ Correct function call\n",
      "Test 75: ✓ Correct function call\n",
      "Test 76: ✓ Correct function call\n",
      "Test 77: ✓ Correct function call\n",
      "Test 78: ✓ Correct function call\n",
      "Test 79: ✓ Correct function call\n",
      "Test 80: ✓ Correct function call\n",
      "Test 81: ✓ Correct function call\n",
      "Test 82: ✓ Correct function call\n",
      "Test 83: ✓ Correct function call\n",
      "Test 84: ✓ Correct function call\n",
      "Test 85: ✓ Correct function call\n",
      "Test 86: ✓ Correct function call\n",
      "Test 87: ✓ Correct function call\n",
      "Test 88: ✓ Correct function call\n",
      "Test 89: ✓ Correct function call\n",
      "Test 90: ✓ Correct function call\n",
      "Test 91: ✓ Correct function call\n",
      "Test 92: ✓ Correct function call\n",
      "Test 93: ✓ Correct function call\n",
      "Test 94: ✓ Correct function call\n",
      "Test 95: ✓ Correct function call\n",
      "Test 96: ✓ Correct function call\n",
      "Test 97: ✓ Correct function call\n",
      "Test 98: ✓ Correct function call\n",
      "Test 99: ✓ Correct function call\n",
      "Test 100: ✓ Correct function call\n",
      "--------------------------------------------------\n",
      "Total tests: 100\n",
      "Successful calls: 100\n",
      "Accuracy: 100.00%\n"
     ]
    }
   ],
   "source": [
    "import random\n",
    "\n",
    "# Prompt templates with {patient_id} placeholder\n",
    "prompt_templates = [\n",
    "    \"What are the recent mental health notes for patient #{patient_id}?\",\n",
    "    \"Show me the treatment history and medications for patient {patient_id}\",\n",
    "    \"Get the latest diagnosis and encounters for patient ID {patient_id}\",\n",
    "    \"What is the mental health progress for patient #{patient_id}?\",\n",
    "    \"List all medications and treatment notes for patient {patient_id}\",\n",
    "    \"Provide mental health assessment history for patient #{patient_id}\"\n",
    "]\n",
    "\n",
    "\n",
    "def test_function_call_accuracy(num_tests=10):\n",
    "    successful_calls = 0\n",
    "    total_calls = num_tests\n",
    "    \n",
    "    print(f\"Running {num_tests} function call tests...\")\n",
    "    print(\"-\" * 50)\n",
    "    \n",
    "    for i in range(num_tests):\n",
    "        # Generate random patient ID between 1000-1099\n",
    "        patient_id = str(random.randint(1000, 1099))\n",
    "        # Select random prompt template\n",
    "        prompt = random.choice(prompt_templates).format(patient_id=patient_id)\n",
    "        \n",
    "        completion = client.chat.completions.create(\n",
    "            model=\"gpt-3.5-turbo\",\n",
    "            messages=[{\"role\": \"user\", \"content\": prompt}],\n",
    "            tools=tools,\n",
    "        )\n",
    "        \n",
    "        response = completion.choices[0].message.tool_calls\n",
    "        if response:\n",
    "            function_name = response[0].function.name\n",
    "            if function_name == \"get_mental_health_ehr_data\":\n",
    "                successful_calls += 1\n",
    "                print(f\"Test {i+1}: ✓ Correct function call\")\n",
    "            else:\n",
    "                print(f\"Test {i+1}: ✗ Wrong function called: {function_name}\")\n",
    "        else:\n",
    "            print(f\"Test {i+1}: ✗ No function called\")\n",
    "    accuracy = (successful_calls / total_calls) * 100\n",
    "    print(\"-\" * 50)\n",
    "    print(f\"Total tests: {total_calls}\")\n",
    "    print(f\"Successful calls: {successful_calls}\")\n",
    "    print(f\"Accuracy: {accuracy:.2f}%\")\n",
    "\n",
    "# Usage:\n",
    "test_function_call_accuracy(100)"
   ]
  },
  {
   "cell_type": "markdown",
   "metadata": {},
   "source": [
    "### Test DB call"
   ]
  },
  {
   "cell_type": "code",
   "execution_count": 123,
   "metadata": {},
   "outputs": [
    {
     "name": "stdout",
     "output_type": "stream",
     "text": [
      "{\n",
      "  \"patient_id\": \"1012\",\n",
      "  \"age\": 34,\n",
      "  \"gender\": \"Male\",\n",
      "  \"diagnosis\": \"PTSD\",\n",
      "  \"medications\": [\n",
      "    \"Sertraline 100mg\",\n",
      "    \"Paroxetine 20mg\",\n",
      "    \"Prazosin 2mg\"\n",
      "  ],\n",
      "  \"encounter_history\": [\n",
      "    {\n",
      "      \"date\": \"2024-03-19\",\n",
      "      \"reason\": \"Initial Consultation\",\n",
      "      \"notes\": \"Patient reports hypervigilance and flashbacks. Recommended group therapy.\"\n",
      "    },\n",
      "    {\n",
      "      \"date\": \"2024-04-28\",\n",
      "      \"reason\": \"Follow-up\",\n",
      "      \"notes\": \"Patient reports flashbacks and nightmares. Recommended stress management techniques.\"\n",
      "    },\n",
      "    {\n",
      "      \"date\": \"2024-05-25\",\n",
      "      \"reason\": \"Medication Review\",\n",
      "      \"notes\": \"Patient reports avoidance and nightmares. Recommended CBT.\"\n",
      "    },\n",
      "    {\n",
      "      \"date\": \"2024-07-15\",\n",
      "      \"reason\": \"Follow-up\",\n",
      "      \"notes\": \"Patient reports flashbacks and nightmares. Recommended mindfulness training.\"\n",
      "    }\n",
      "  ]\n",
      "}\n"
     ]
    }
   ],
   "source": [
    "function_name = response[0].function.name\n",
    "function_name\n",
    "\n",
    "if function_name == \"get_mental_health_ehr_data\":\n",
    "    parameters = response[0].function.arguments\n",
    "    parameters_dict = json.loads(parameters)\n",
    "    patient_id = parameters_dict[\"patient_id\"]\n",
    "    result = get_mental_health_data(patient_id)\n",
    "    print(json.dumps(result, indent=2))\n"
   ]
  }
 ],
 "metadata": {
  "kernelspec": {
   "display_name": ".venv",
   "language": "python",
   "name": "python3"
  },
  "language_info": {
   "codemirror_mode": {
    "name": "ipython",
    "version": 3
   },
   "file_extension": ".py",
   "mimetype": "text/x-python",
   "name": "python",
   "nbconvert_exporter": "python",
   "pygments_lexer": "ipython3",
   "version": "3.12.3"
  }
 },
 "nbformat": 4,
 "nbformat_minor": 2
}
